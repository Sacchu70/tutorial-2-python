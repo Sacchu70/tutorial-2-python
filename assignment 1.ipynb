{
 "cells": [
  {
   "cell_type": "markdown",
   "id": "c3afaaee-7f6e-4d66-acd4-9ff75e10ce12",
   "metadata": {},
   "source": [
    "                                         Assignment - 1\n",
    "                                        "
   ]
  },
  {
   "cell_type": "markdown",
   "id": "068c28b0-9394-4560-ba52-00309e78fda4",
   "metadata": {},
   "source": [
    "solution - 1"
   ]
  },
  {
   "cell_type": "code",
   "execution_count": 1,
   "id": "8261a1f9-dcb4-4442-ae62-ac9ff71bffc2",
   "metadata": {},
   "outputs": [],
   "source": [
    "s = \"sachin coder\""
   ]
  },
  {
   "cell_type": "code",
   "execution_count": 2,
   "id": "8e91f4be-18a9-4880-acca-18d732388f85",
   "metadata": {},
   "outputs": [
    {
     "data": {
      "text/plain": [
       "str"
      ]
     },
     "execution_count": 2,
     "metadata": {},
     "output_type": "execute_result"
    }
   ],
   "source": [
    "type(s)"
   ]
  },
  {
   "cell_type": "code",
   "execution_count": 3,
   "id": "ca2effea-e880-408f-93a5-af0b65688908",
   "metadata": {},
   "outputs": [],
   "source": [
    "s = [\"sachin\",\"amir khan\",87,78,3+5j,67.98]"
   ]
  },
  {
   "cell_type": "code",
   "execution_count": 4,
   "id": "983cd4b0-aec2-49ac-a8ba-2ecff5b629ad",
   "metadata": {},
   "outputs": [
    {
     "data": {
      "text/plain": [
       "list"
      ]
     },
     "execution_count": 4,
     "metadata": {},
     "output_type": "execute_result"
    }
   ],
   "source": [
    "type(s)"
   ]
  },
  {
   "cell_type": "code",
   "execution_count": 5,
   "id": "bfe59775-79e3-4fa4-a675-b3adc597e76e",
   "metadata": {},
   "outputs": [],
   "source": [
    "s= 34.34"
   ]
  },
  {
   "cell_type": "markdown",
   "id": "8b424878-2f88-46ca-91c8-225dff17f887",
   "metadata": {},
   "source": [
    "Solution - 2"
   ]
  },
  {
   "cell_type": "markdown",
   "id": "660d9e66-0b95-4457-a2fa-4c341f893956",
   "metadata": {},
   "source": [
    "(i). String"
   ]
  },
  {
   "cell_type": "markdown",
   "id": "dd5cf72c-09a4-42ed-8bd3-10a4e061601f",
   "metadata": {},
   "source": [
    "(ii). String"
   ]
  },
  {
   "cell_type": "markdown",
   "id": "52d00a45-716c-4d2e-981f-81314085280e",
   "metadata": {},
   "source": [
    "(iii). list"
   ]
  },
  {
   "cell_type": "markdown",
   "id": "6ad69094-2fad-495b-a6b3-ad57ce227ba1",
   "metadata": {},
   "source": [
    "(iv). integer"
   ]
  },
  {
   "cell_type": "markdown",
   "id": "8af2fe54-35c3-4451-9e6e-14cc504476cd",
   "metadata": {},
   "source": [
    "SOLUTION - 3"
   ]
  },
  {
   "cell_type": "markdown",
   "id": "901e15f7-d6d6-43c6-80f9-5158b82206e2",
   "metadata": {},
   "source": [
    "(i). '/' (it is used for divide)"
   ]
  },
  {
   "cell_type": "markdown",
   "id": "bd7614fc-e9aa-4918-a806-09aa73fd6153",
   "metadata": {},
   "source": [
    "for example:"
   ]
  },
  {
   "cell_type": "code",
   "execution_count": 18,
   "id": "2193f606-4e4d-4cca-8239-b0cd6d48a2e5",
   "metadata": {},
   "outputs": [
    {
     "data": {
      "text/plain": [
       "5.0"
      ]
     },
     "execution_count": 18,
     "metadata": {},
     "output_type": "execute_result"
    }
   ],
   "source": [
    "25/5"
   ]
  },
  {
   "cell_type": "code",
   "execution_count": null,
   "id": "1e707ef8-ad57-4200-9289-c108439178c6",
   "metadata": {},
   "outputs": [],
   "source": []
  },
  {
   "cell_type": "markdown",
   "id": "2b6b131f-68ed-4388-91e1-7d5ee26aef68",
   "metadata": {},
   "source": [
    "(ii). '%'(it is used to find remainder in two divided numbers)\n"
   ]
  },
  {
   "cell_type": "markdown",
   "id": "107d83de-2a95-40f6-9446-1d05debac739",
   "metadata": {},
   "source": [
    "for example:"
   ]
  },
  {
   "cell_type": "code",
   "execution_count": 19,
   "id": "f2d01853-c50b-4cc0-a3a0-3a182f81414d",
   "metadata": {},
   "outputs": [
    {
     "data": {
      "text/plain": [
       "2"
      ]
     },
     "execution_count": 19,
     "metadata": {},
     "output_type": "execute_result"
    }
   ],
   "source": [
    "35%3"
   ]
  },
  {
   "cell_type": "markdown",
   "id": "162d154d-22cb-4569-af5b-46df4919effd",
   "metadata": {},
   "source": [
    "(iii). // (it is used for find  dividend)"
   ]
  },
  {
   "cell_type": "markdown",
   "id": "8f0fcaf9-17e0-440a-9c2e-2deed42f5ef6",
   "metadata": {},
   "source": [
    "for example:"
   ]
  },
  {
   "cell_type": "code",
   "execution_count": 20,
   "id": "4357d9a1-3f00-4780-b9da-aee3a943f95c",
   "metadata": {},
   "outputs": [
    {
     "data": {
      "text/plain": [
       "11"
      ]
     },
     "execution_count": 20,
     "metadata": {},
     "output_type": "execute_result"
    }
   ],
   "source": [
    "45//4"
   ]
  },
  {
   "cell_type": "markdown",
   "id": "18ebb04e-9be2-4936-b88a-2f18dc071683",
   "metadata": {},
   "source": [
    "(iv). ** (it is used for raise power)"
   ]
  },
  {
   "cell_type": "markdown",
   "id": "1c7061d8-e8b2-44a9-a509-5c6d502340dd",
   "metadata": {},
   "source": [
    "for example:"
   ]
  },
  {
   "cell_type": "code",
   "execution_count": 21,
   "id": "fcdbc1cc-82b6-4746-85aa-adcaca2633d8",
   "metadata": {},
   "outputs": [
    {
     "data": {
      "text/plain": [
       "125"
      ]
     },
     "execution_count": 21,
     "metadata": {},
     "output_type": "execute_result"
    }
   ],
   "source": [
    "5**3"
   ]
  },
  {
   "cell_type": "markdown",
   "id": "b96c2f02-cebc-4e24-a16a-78933cf7e0cb",
   "metadata": {},
   "source": [
    "SOLUTION - 4"
   ]
  },
  {
   "cell_type": "code",
   "execution_count": 22,
   "id": "961654ff-4a61-46cc-8c52-7315acf97807",
   "metadata": {},
   "outputs": [],
   "source": [
    "s = [\"Sachin\",\"priyu\",\"gunnu\",\"shristu\",65,78,45.5,4+4j,23,67.68,7+6j] "
   ]
  },
  {
   "cell_type": "code",
   "execution_count": 29,
   "id": "699f7dce-9a40-4d42-8acf-f1f8c9dedad2",
   "metadata": {},
   "outputs": [
    {
     "name": "stdout",
     "output_type": "stream",
     "text": [
      "<class 'str'>\n",
      "Sachin\n",
      "<class 'str'>\n",
      "priyu\n",
      "<class 'str'>\n",
      "gunnu\n",
      "<class 'str'>\n",
      "shristu\n",
      "<class 'int'>\n",
      "65\n",
      "<class 'int'>\n",
      "78\n",
      "<class 'float'>\n",
      "45.5\n",
      "<class 'complex'>\n",
      "(4+4j)\n",
      "<class 'int'>\n",
      "23\n",
      "<class 'float'>\n",
      "67.68\n",
      "<class 'complex'>\n",
      "(7+6j)\n"
     ]
    }
   ],
   "source": [
    "for me in s:\n",
    "    print(type(me))\n",
    "    print(me)"
   ]
  },
  {
   "cell_type": "markdown",
   "id": "b4ad988a-5ab5-427a-b25d-dc1e7fbbda10",
   "metadata": {},
   "source": [
    "SOLUTION - 5"
   ]
  },
  {
   "cell_type": "code",
   "execution_count": 8,
   "id": "e7223733-2464-4e57-bc97-5e4fa1b512f6",
   "metadata": {},
   "outputs": [
    {
     "name": "stdout",
     "output_type": "stream",
     "text": [
      "45\n",
      "34\n",
      "25\n",
      "56\n",
      "23\n",
      "67\n",
      "32\n",
      "78\n",
      "97\n",
      "23\n",
      "76\n",
      "46\n",
      "89\n",
      "30\n",
      "60\n",
      "90\n"
     ]
    }
   ],
   "source": [
    "s=[45,34,25,56,23,67,32,78,97,23,76,46,89,30,60,90]\n",
    "for me in s:\n",
    "    if me/3:\n",
    "        print(me)\n",
    "    \n",
    "\n",
    "    \n",
    "    "
   ]
  },
  {
   "cell_type": "markdown",
   "id": "9533b315-cff7-4ccf-80c2-a47966a63def",
   "metadata": {},
   "source": [
    "SOLTION- 7"
   ]
  },
  {
   "cell_type": "raw",
   "id": "00e7c9b8-378e-4188-a2d5-13d52315dc77",
   "metadata": {},
   "source": [
    "mutable is those datatype which change with the help of coding without actual changing.\n",
    "example: list datatype\n",
    "immutable datatype is those datatype which does not change with the help of coding.\n",
    "example: integer,float"
   ]
  },
  {
   "cell_type": "code",
   "execution_count": 1,
   "id": "5ff932f5-34eb-488a-b9d5-9170d8e505be",
   "metadata": {},
   "outputs": [],
   "source": [
    "a=\"sachin\""
   ]
  },
  {
   "cell_type": "code",
   "execution_count": 2,
   "id": "7033fc13-e172-4a9d-98d4-418a4c7b2518",
   "metadata": {},
   "outputs": [
    {
     "data": {
      "text/plain": [
       "'c'"
      ]
     },
     "execution_count": 2,
     "metadata": {},
     "output_type": "execute_result"
    }
   ],
   "source": [
    "a[2]"
   ]
  },
  {
   "cell_type": "code",
   "execution_count": 6,
   "id": "0ae6635c-da77-49c6-8617-b63333ca3d22",
   "metadata": {},
   "outputs": [
    {
     "ename": "TypeError",
     "evalue": "'str' object does not support item assignment",
     "output_type": "error",
     "traceback": [
      "\u001b[0;31m---------------------------------------------------------------------------\u001b[0m",
      "\u001b[0;31mTypeError\u001b[0m                                 Traceback (most recent call last)",
      "Cell \u001b[0;32mIn[6], line 1\u001b[0m\n\u001b[0;32m----> 1\u001b[0m \u001b[43ma\u001b[49m\u001b[43m[\u001b[49m\u001b[38;5;241;43m2\u001b[39;49m\u001b[43m]\u001b[49m \u001b[38;5;241m=\u001b[39m \u001b[38;5;124m\"\u001b[39m\u001b[38;5;124mr\u001b[39m\u001b[38;5;124m\"\u001b[39m\n",
      "\u001b[0;31mTypeError\u001b[0m: 'str' object does not support item assignment"
     ]
    }
   ],
   "source": [
    "a[2] = \"r\""
   ]
  },
  {
   "cell_type": "code",
   "execution_count": 7,
   "id": "4baf7c9c-8dc8-4691-9fe1-6d00d1349619",
   "metadata": {},
   "outputs": [],
   "source": [
    "l =[\"sachin\",\"hero\",23]"
   ]
  },
  {
   "cell_type": "code",
   "execution_count": 8,
   "id": "7326b14c-d625-40f3-ab54-f415427789cb",
   "metadata": {},
   "outputs": [
    {
     "data": {
      "text/plain": [
       "'hero'"
      ]
     },
     "execution_count": 8,
     "metadata": {},
     "output_type": "execute_result"
    }
   ],
   "source": [
    "l[1]"
   ]
  },
  {
   "cell_type": "code",
   "execution_count": null,
   "id": "25d2bb8f-d2e7-4a39-b823-838a542dd715",
   "metadata": {},
   "outputs": [],
   "source": []
  }
 ],
 "metadata": {
  "kernelspec": {
   "display_name": "Python 3 (ipykernel)",
   "language": "python",
   "name": "python3"
  },
  "language_info": {
   "codemirror_mode": {
    "name": "ipython",
    "version": 3
   },
   "file_extension": ".py",
   "mimetype": "text/x-python",
   "name": "python",
   "nbconvert_exporter": "python",
   "pygments_lexer": "ipython3",
   "version": "3.10.8"
  }
 },
 "nbformat": 4,
 "nbformat_minor": 5
}
